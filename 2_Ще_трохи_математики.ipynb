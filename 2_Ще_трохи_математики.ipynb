{
  "nbformat": 4,
  "nbformat_minor": 0,
  "metadata": {
    "colab": {
      "name": "2. Ще трохи математики",
      "provenance": [],
      "collapsed_sections": [],
      "toc_visible": true
    },
    "kernelspec": {
      "name": "python3",
      "display_name": "Python 3"
    },
    "language_info": {
      "name": "python"
    }
  },
  "cells": [
    {
      "cell_type": "markdown",
      "metadata": {
        "id": "nspjmpTrxgZS"
      },
      "source": [
        "# Ще трохи математики"
      ]
    },
    {
      "cell_type": "markdown",
      "metadata": {
        "id": "9NqHzlZ2xtID"
      },
      "source": [
        "1. Обчисліть радіус кола, знаючи його площу. Нагадаємо формулу:\n",
        "$$\n",
        "  S=\\pi*R^2 => R =\\sqrt{\\frac{S}{\\pi}}\n",
        "$$\n",
        "Для обчислення скористаємось знайомими функціями ```sqrt``` та ```pi``` з пакету ```math```.\n"
      ]
    },
    {
      "cell_type": "code",
      "metadata": {
        "colab": {
          "base_uri": "https://localhost:8080/"
        },
        "id": "csfYPusD0mWX",
        "outputId": "2140bda9-8470-40ff-c75e-6a8d71eecc1d"
      },
      "source": [
        "from math import sqrt,pi\n",
        "S = float(input('Введіть площу кола: '))\n",
        "r = sqrt(S/pi)\n",
        "print ('Радіус дорівнює %6.3f см' %r)"
      ],
      "execution_count": 5,
      "outputs": [
        {
          "output_type": "stream",
          "name": "stdout",
          "text": [
            "Введіть площу кола: 40\n",
            "Радіус дорівнює  3.568 см\n"
          ]
        }
      ]
    },
    {
      "cell_type": "markdown",
      "metadata": {
        "id": "e7Ed3mEp11Rw"
      },
      "source": [
        "2. А тепер за зразком знайдіть в наступній комірці площу сфери та об'єм кулі. Нагадуємо формули:\n",
        "$$\n",
        "  S=4*\\pi*R^2    \n",
        "$$\n",
        "$$\n",
        "  V=\\frac{4}{3}*\\pi*R^3\n",
        "$$\n",
        "Також нагадаємо, що ступінь в Python задається так: ```**```"
      ]
    },
    {
      "cell_type": "code",
      "metadata": {
        "id": "sTFMO4Xp3fgO",
        "outputId": "a8237de6-10dd-4cda-ae1e-500fe460e442",
        "colab": {
          "base_uri": "https://localhost:8080/"
        }
      },
      "source": [
        "from math import pi\n",
        "R = float(input('Введіть значення R: '))\n",
        "s = 4*pi*(r**2)\n",
        "v = (4/3)*pi*(r**3)\n",
        "print ('Площа сфери дорівнює %6.3f см' %s)\n",
        "print ('Об.єм кулі дорівнює %6.3f см' %v)"
      ],
      "execution_count": 13,
      "outputs": [
        {
          "output_type": "stream",
          "name": "stdout",
          "text": [
            "Введіть значення R: 4\n",
            "Площа сфери дорівнює 160.000 см\n",
            "Об.єм кулі дорівнює 190.307 см\n"
          ]
        }
      ]
    },
    {
      "cell_type": "markdown",
      "metadata": {
        "id": "Ki46Slel5ASd"
      },
      "source": [
        "3. А ще давайте переведемо температуру за Фаренгейтом у градуси Цельсія і навпаки. Формули тут надзвичайно прості:\n",
        "$$\n",
        "  C=(F-32)*0.5556\n",
        "$$\n",
        "$$\n",
        "  F=C*1.8+32\n",
        "$$\n",
        "Спробуйте в наступній комірці! Пам'ятайте про \"красиве\" введення і виведення даних."
      ]
    },
    {
      "cell_type": "code",
      "metadata": {
        "id": "8yhfAwYm5E_z",
        "outputId": "dea26eab-1d08-4847-b377-4f48d4760352",
        "colab": {
          "base_uri": "https://localhost:8080/"
        }
      },
      "source": [
        "F = float(input('Введіть температуру за Фаренгейтом: '))\n",
        "cels = (F-32)*0.5556\n",
        "print ('Температура у градусах Цельсія =', cels)\n",
        "C = float(input('Введіть температуру у градусах Цельсія: '))\n",
        "faren = C*1.8+32\n",
        "print('Температура за Фаренгейтом =', faren)\n"
      ],
      "execution_count": 23,
      "outputs": [
        {
          "output_type": "stream",
          "name": "stdout",
          "text": [
            "Введіть температуру за Фаренгейтом: 75\n",
            "Температура у градусах Цельсія = 23.8908\n",
            "Введіть температуру у градусах Цельсія: 23\n",
            "Температура за Фаренгейтом = 73.4\n"
          ]
        }
      ]
    },
    {
      "cell_type": "markdown",
      "metadata": {
        "id": "rnapogmC6dta"
      },
      "source": [
        "Ще більше простих вправ з Python - [тут](https://www.w3resource.com/python-exercises/python-basic-exercises.php)"
      ]
    }
  ]
}